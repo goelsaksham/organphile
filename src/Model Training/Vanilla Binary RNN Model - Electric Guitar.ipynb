{
 "cells": [
  {
   "cell_type": "markdown",
   "metadata": {},
   "source": [
    "# Vanilla Binary RNN Model\n",
    "\n",
    "This notebook is used to train a simple Vanilla RNN model for Binary classification of Piano and Electric Guitar. We chose the following two classes because there numbers are really close to each other, hence would be able to solve the class imbalance issue beforehand and dont have to worry about it."
   ]
  },
  {
   "cell_type": "markdown",
   "metadata": {},
   "source": [
    "### Importing Required Libraries\n",
    "\n",
    "This section will import the required libaries that will be used to actually implement the training for the Vanilla RNN Binary Classification Model"
   ]
  },
  {
   "cell_type": "code",
   "execution_count": 96,
   "metadata": {},
   "outputs": [],
   "source": [
    "import numpy as np\n",
    "import pandas as pd\n",
    "import os\n",
    "import glob\n",
    "from keras.models import Sequential\n",
    "from keras.layers import SimpleRNN, Dense, Input\n",
    "from keras.layers.embeddings import Embedding\n",
    "from keras.preprocessing import sequence\n",
    "from keras.callbacks import ModelCheckpoint, TensorBoard, EarlyStopping\n",
    "from sklearn.model_selection import train_test_split\n",
    "from keras.utils import to_categorical\n",
    "import time"
   ]
  },
  {
   "cell_type": "markdown",
   "metadata": {},
   "source": [
    "Adding this so that can use the python scripts for loading the training data"
   ]
  },
  {
   "cell_type": "code",
   "execution_count": 2,
   "metadata": {},
   "outputs": [],
   "source": [
    "import sys\n",
    "nb_dir = os.path.split(os.getcwd())[0]\n",
    "if nb_dir not in sys.path:\n",
    "    sys.path.append(nb_dir)"
   ]
  },
  {
   "cell_type": "markdown",
   "metadata": {},
   "source": [
    "Importing the python script training data loader function. This function loads the data from the *.wav* files directly"
   ]
  },
  {
   "cell_type": "code",
   "execution_count": 7,
   "metadata": {},
   "outputs": [],
   "source": [
    "from py_scripts.directory_funcs import *\n",
    "from py_scripts.wav_file_funcs import *\n",
    "from py_scripts.misc_audio_signal_funcs import *\n",
    "from py_scripts.raw_training_data_creation import load_irmas_data"
   ]
  },
  {
   "cell_type": "markdown",
   "metadata": {},
   "source": [
    "### Loading Training Data\n",
    "\n",
    "This section uses the script from the training data creation module to load the training data."
   ]
  },
  {
   "cell_type": "code",
   "execution_count": 8,
   "metadata": {},
   "outputs": [
    {
     "data": {
      "text/plain": [
       "['cel', 'cla', 'flu', 'gac', 'gel', 'org', 'pia', 'sax', 'tru', 'vio', 'voi']"
      ]
     },
     "execution_count": 8,
     "metadata": {},
     "output_type": "execute_result"
    }
   ],
   "source": [
    "# First define the training data directory, and find the different classes that exist\n",
    "training_data_dir = '../../data/whole_dataset/training/'\n",
    "get_subdirectory_names(training_data_dir)"
   ]
  },
  {
   "cell_type": "code",
   "execution_count": 22,
   "metadata": {},
   "outputs": [],
   "source": [
    "# Define the classes that we will work\n",
    "all_classes = get_subdirectory_names(training_data_dir)\n",
    "# Defining the classes that will be the ones on which we will train for the project\n",
    "classes_for_project = ['gel', 'pia', 'sax', 'vio', 'voi']\n",
    "mapping_to_index = dict(zip(classes_for_project, range(len(classes_for_project))))\n",
    "# Getting the frequency for each class\n",
    "class_num_files = dict(zip(classes_for_project, [len(get_file_names(construct_path(training_data_dir, class_name), '*.wav')) for class_name in classes_for_project]))\n",
    "# Defining the class which will be used as the one v/s all classifier to denote all other classes except the current class\n",
    "one_vs_all_class_name = 'bad'"
   ]
  },
  {
   "cell_type": "markdown",
   "metadata": {},
   "source": [
    "#### Loading data for the Primary Class"
   ]
  },
  {
   "cell_type": "code",
   "execution_count": 12,
   "metadata": {},
   "outputs": [
    {
     "name": "stdout",
     "output_type": "stream",
     "text": [
      "Getting Data from gel\n",
      "Processing: 760 files\n",
      "Loaded all the data from the class\n"
     ]
    }
   ],
   "source": [
    "# Load the data for one class which we choose and then load some from each other class\n",
    "current_class_name = 'gel'\n",
    "# Defining the various parameters for loading the input data\n",
    "rnn_window = (300, 300) # in the format of length of vector and the shift\n",
    "current_class_num_examples = 0\n",
    "current_class_X, current_class_y = load_irmas_data(training_data_dir, [current_class_name], \n",
    "                                                   rnn_window, number_of_training_examples_per_class=current_class_num_examples)"
   ]
  },
  {
   "cell_type": "code",
   "execution_count": 16,
   "metadata": {},
   "outputs": [
    {
     "data": {
      "text/plain": [
       "((3040, 294, 300), (3040,))"
      ]
     },
     "execution_count": 16,
     "metadata": {},
     "output_type": "execute_result"
    }
   ],
   "source": [
    "# Verifying the shape of the current class data array\n",
    "current_class_X.shape, current_class_y.shape"
   ]
  },
  {
   "cell_type": "markdown",
   "metadata": {},
   "source": [
    "#### Loading the data for the residual classes"
   ]
  },
  {
   "cell_type": "code",
   "execution_count": 41,
   "metadata": {},
   "outputs": [
    {
     "name": "stdout",
     "output_type": "stream",
     "text": [
      "Getting Data from voi\n",
      "Processing: 190 files\n",
      "Loaded all the data from the class\n",
      "Getting Data from pia\n",
      "Processing: 190 files\n",
      "Loaded all the data from the class\n",
      "Getting Data from sax\n",
      "Processing: 190 files\n",
      "Loaded all the data from the class\n",
      "Getting Data from vio\n",
      "Processing: 190 files\n",
      "Loaded all the data from the class\n"
     ]
    }
   ],
   "source": [
    "all_classes_num_examples = class_num_files[current_class_name] // (len(classes_for_project) - 1) \\\n",
    "                           if current_class_num_examples == 0 else current_class_num_examples // (len(classes_for_project) - 1)\n",
    "all_class_X, all_class_y = load_irmas_data(training_data_dir, set(classes_for_project) - set([current_class_name]), \n",
    "                                                   rnn_window, number_of_training_examples_per_class=all_classes_num_examples)"
   ]
  },
  {
   "cell_type": "code",
   "execution_count": 33,
   "metadata": {},
   "outputs": [
    {
     "data": {
      "text/plain": [
       "((3040, 294, 300), (3040,))"
      ]
     },
     "execution_count": 33,
     "metadata": {},
     "output_type": "execute_result"
    }
   ],
   "source": [
    "# Verifying the shape of the all class data array\n",
    "all_class_X.shape, all_class_y.shape"
   ]
  },
  {
   "cell_type": "markdown",
   "metadata": {},
   "source": [
    "### Creating the Actual Training Data"
   ]
  },
  {
   "cell_type": "code",
   "execution_count": 46,
   "metadata": {},
   "outputs": [],
   "source": [
    "# First changing the label of the all_class_y labels\n",
    "all_class_y[:] = one_vs_all_class_name\n",
    "# Vertically concatenating the two feature data arrays\n",
    "X = np.vstack((current_class_X, all_class_X))\n",
    "# Horizontally concatenating the label array\n",
    "y = np.hstack((current_class_y, all_class_y))"
   ]
  },
  {
   "cell_type": "code",
   "execution_count": 67,
   "metadata": {},
   "outputs": [],
   "source": [
    "# Free the memory allocated for the all_class_x, current_class_x, all_class_y, current_class_y\n",
    "current_class_X = None\n",
    "current_class_y = None\n",
    "all_class_X = None\n",
    "all_class_y = None"
   ]
  },
  {
   "cell_type": "code",
   "execution_count": 48,
   "metadata": {},
   "outputs": [
    {
     "data": {
      "text/plain": [
       "((6080, 294, 300), (6080,))"
      ]
     },
     "execution_count": 48,
     "metadata": {},
     "output_type": "execute_result"
    }
   ],
   "source": [
    "# Verifying the shape\n",
    "X.shape, y.shape"
   ]
  },
  {
   "cell_type": "code",
   "execution_count": 49,
   "metadata": {},
   "outputs": [],
   "source": [
    "# Doing a train test split\n",
    "X_train, X_test, y_train, y_test = train_test_split(X, y, test_size=0.2)"
   ]
  },
  {
   "cell_type": "code",
   "execution_count": 66,
   "metadata": {},
   "outputs": [],
   "source": [
    "# Freeing up previous memory\n",
    "X = None\n",
    "y = None"
   ]
  },
  {
   "cell_type": "code",
   "execution_count": 50,
   "metadata": {},
   "outputs": [
    {
     "name": "stdout",
     "output_type": "stream",
     "text": [
      "Total Number of Training Samples: (4864,)\n",
      "Total number of timestamp values for each sample: 294\n",
      "Total number of features for each sample: 300\n"
     ]
    }
   ],
   "source": [
    "print(f'Total Number of Training Samples: {y_train.shape}')\n",
    "print(f'Total number of timestamp values for each sample: {X_train.shape[1]}')\n",
    "print(f'Total number of features for each sample: {X_train.shape[-1]}')\n",
    "#print(f'Minimum Feature Value: {np.min(X_train)}, Maximum Feature Value: {np.max(X_train)}')"
   ]
  },
  {
   "cell_type": "code",
   "execution_count": 51,
   "metadata": {},
   "outputs": [
    {
     "name": "stdout",
     "output_type": "stream",
     "text": [
      "Total Number of Testing Samples: (1216,)\n",
      "Total number of timestamp values for each sample: 294\n",
      "Total number of features for each sample: 300\n"
     ]
    }
   ],
   "source": [
    "print(f'Total Number of Testing Samples: {y_test.shape}')\n",
    "print(f'Total number of timestamp values for each sample: {X_test.shape[1]}')\n",
    "print(f'Total number of features for each sample: {X_test.shape[-1]}')\n",
    "#print(f'Minimum Feature Value: {np.min(X_train)}, Maximum Feature Value: {np.max(X_train)}')"
   ]
  },
  {
   "cell_type": "code",
   "execution_count": 60,
   "metadata": {},
   "outputs": [
    {
     "name": "stdout",
     "output_type": "stream",
     "text": [
      "Index(['bad', 'gel'], dtype='object') Index(['bad', 'gel'], dtype='object')\n"
     ]
    }
   ],
   "source": [
    "y_train_categorical = pd.Categorical(y_train)\n",
    "y_train_numerical = y_train_categorical.codes\n",
    "y_test_categorical = pd.Categorical(y_test)\n",
    "y_test_numerical = y_test_categorical.codes\n",
    "# Checking the categries\n",
    "print(y_train_categorical.categories, y_test_categorical.categories)"
   ]
  },
  {
   "cell_type": "code",
   "execution_count": 61,
   "metadata": {},
   "outputs": [
    {
     "data": {
      "text/plain": [
       "2"
      ]
     },
     "execution_count": 61,
     "metadata": {},
     "output_type": "execute_result"
    }
   ],
   "source": [
    "# Find the number of categories\n",
    "len(y_train_categorical.categories)"
   ]
  },
  {
   "cell_type": "code",
   "execution_count": 71,
   "metadata": {},
   "outputs": [],
   "source": [
    "# If training for more than 1 class then need to convert to categorical\n",
    "if len(y_train_categorical.categories) > 2:\n",
    "    y_train_numerical = to_categorical(y_train_numerical)\n",
    "    y_test_numerical = to_categorical(y_test_numerical)"
   ]
  },
  {
   "cell_type": "markdown",
   "metadata": {},
   "source": [
    "## Check For Memory Usage"
   ]
  },
  {
   "cell_type": "code",
   "execution_count": 98,
   "metadata": {},
   "outputs": [
    {
     "data": {
      "text/plain": [
       "[('X_train', 1716019328),\n",
       " ('X_test', 429004928),\n",
       " ('y_train', 58464),\n",
       " ('y_test', 14688),\n",
       " ('y_train_categorical', 5088),\n",
       " ('Sequential', 3096),\n",
       " ('Dense', 2000),\n",
       " ('SimpleRNN', 2000),\n",
       " ('ModelCheckpoint', 1464),\n",
       " ('TensorBoard', 1464),\n",
       " ('y_test_categorical', 1440),\n",
       " ('EarlyStopping', 1184),\n",
       " ('Embedding', 1056),\n",
       " ('tensor_board_file_path', 432),\n",
       " ('nb_dir', 285),\n",
       " ('class_num_files', 240),\n",
       " ('mapping_to_index', 240),\n",
       " ('parent_weight_save_dir', 213),\n",
       " ('weight_file_path', 177),\n",
       " ('all_classes', 160),\n",
       " ('training_data_dir', 153),\n",
       " ('Input', 136),\n",
       " ('check_output_directory', 136),\n",
       " ('construct_path', 136),\n",
       " ('exist_directory', 136),\n",
       " ('exist_file', 136),\n",
       " ('get_directory_contents', 136),\n",
       " ('get_file_names', 136),\n",
       " ('get_left_channel_data', 136),\n",
       " ('get_right_channel_data', 136),\n",
       " ('get_sound_signals', 136),\n",
       " ('get_subdirectory_names', 136),\n",
       " ('load_irmas_data', 136),\n",
       " ('normalize_sound_signals', 136),\n",
       " ('read_wav_file', 136),\n",
       " ('shift_sound_signals', 136),\n",
       " ('to_categorical', 136),\n",
       " ('train_test_split', 136),\n",
       " ('current_experiment_name', 117),\n",
       " ('tensor_board_dir_path', 107),\n",
       " ('classes_for_project', 104),\n",
       " ('scores', 96),\n",
       " ('y_test_numerical', 96),\n",
       " ('y_train_numerical', 96),\n",
       " ('callbacks_list', 88),\n",
       " ('np', 80),\n",
       " ('pd', 80),\n",
       " ('sequence', 80),\n",
       " ('wavfile', 80),\n",
       " ('rnn_window', 64),\n",
       " ('current_class_name', 60),\n",
       " ('one_vs_all_class_name', 60),\n",
       " ('checkpoint', 56),\n",
       " ('early_stopping_criteria', 56),\n",
       " ('history', 56),\n",
       " ('history_2', 56),\n",
       " ('model', 56),\n",
       " ('tensorboard', 56),\n",
       " ('all_class_num_examples', 28),\n",
       " ('all_classes_num_examples', 28),\n",
       " ('num_classes_for_training', 28),\n",
       " ('number_of_features', 28),\n",
       " ('number_of_time_stamps', 28),\n",
       " ('rnn_layer_num_units', 28),\n",
       " ('current_class_num_examples', 24),\n",
       " ('X', 16),\n",
       " ('all_class_X', 16),\n",
       " ('all_class_y', 16),\n",
       " ('current_class_X', 16),\n",
       " ('current_class_y', 16),\n",
       " ('y', 16)]"
      ]
     },
     "execution_count": 98,
     "metadata": {},
     "output_type": "execute_result"
    }
   ],
   "source": [
    "import sys\n",
    "\n",
    "# These are the usual ipython objects, including this one you are creating\n",
    "ipython_vars = ['In', 'Out', 'exit', 'quit', 'get_ipython', 'ipython_vars']\n",
    "\n",
    "# Get a sorted list of the objects and their sizes\n",
    "sorted([(x, sys.getsizeof(globals().get(x))) for x in dir() if not x.startswith('_') and x not in sys.modules and x not in ipython_vars], key=lambda x: x[1], reverse=True)"
   ]
  },
  {
   "cell_type": "markdown",
   "metadata": {},
   "source": [
    "## Model Definition\n",
    "\n",
    "This section will define the model architecture that will be used for the training purposes"
   ]
  },
  {
   "cell_type": "code",
   "execution_count": 70,
   "metadata": {},
   "outputs": [
    {
     "name": "stdout",
     "output_type": "stream",
     "text": [
      "Number of Features (Feature Vector Length): 300, Number of Time Stamps: 294\n"
     ]
    }
   ],
   "source": [
    "# Defining the parameters for the Embedding layer\n",
    "number_of_features = X_train.shape[-1]\n",
    "number_of_time_stamps = X_train.shape[1]\n",
    "print(f'Number of Features (Feature Vector Length): {number_of_features}, Number of Time Stamps: {number_of_time_stamps}')"
   ]
  },
  {
   "cell_type": "code",
   "execution_count": 82,
   "metadata": {},
   "outputs": [
    {
     "name": "stdout",
     "output_type": "stream",
     "text": [
      "_________________________________________________________________\n",
      "Layer (type)                 Output Shape              Param #   \n",
      "=================================================================\n",
      "simple_rnn_2 (SimpleRNN)     (None, 50)                17550     \n",
      "_________________________________________________________________\n",
      "dense_2 (Dense)              (None, 1)                 51        \n",
      "=================================================================\n",
      "Total params: 17,601\n",
      "Trainable params: 17,601\n",
      "Non-trainable params: 0\n",
      "_________________________________________________________________\n"
     ]
    }
   ],
   "source": [
    "# Define the model\n",
    "rnn_layer_num_units = 50\n",
    "num_classes_for_training = len(y_train_categorical.categories)\n",
    "model = Sequential()\n",
    "model.add(SimpleRNN(rnn_layer_num_units, input_shape=(number_of_time_stamps, number_of_features), dropout=0.2))\n",
    "model.add(Dense(1 if num_classes_for_training < 3 else num_classes_for_training, activation='sigmoid' if num_classes_for_training < 3 else 'softmax'))\n",
    "# Compiling the model\n",
    "model.compile(loss='binary_crossentropy' if num_classes_for_training < 3 else'categorical_crossentropy', \n",
    "              optimizer='adam', metrics=['accuracy'])\n",
    "model.summary()"
   ]
  },
  {
   "cell_type": "code",
   "execution_count": 97,
   "metadata": {},
   "outputs": [],
   "source": [
    "# Adding a checkpoint\n",
    "parent_weight_save_dir = '../../data/Training Results/Vanilla Simple RNN/Weights'\n",
    "tensor_board_dir_path = '../../data/Training Results/Vanilla Simple RNN/TensorBoard'\n",
    "check_output_directory(parent_weight_save_dir)\n",
    "current_experiment_name = f'OneClass-{current_class_name}_InputVectorLen-{number_of_features}_TimeStamps-{number_of_time_stamps}_CT-{time.time()}'\n",
    "weight_file_path = os.path.join(parent_weight_save_dir, f'{current_experiment_name}.hdf5')\n",
    "tensor_board_file_path = os.path.join(tensor_board_dir_path, current_experiment_name)\n",
    "check_output_directory(tensor_board_file_path)\n",
    "checkpoint = ModelCheckpoint(weight_file_path, monitor='val_acc', verbose=1, save_best_only=True, mode='max')\n",
    "tensorboard = TensorBoard(log_dir=tensor_board_file_path)\n",
    "early_stopping_criteria = EarlyStopping(monitor='val_loss', min_delta=0, patience=5, verbose=0, mode='auto')\n",
    "callbacks_list = [tensorboard, checkpoint, early_stopping_criteria]"
   ]
  },
  {
   "cell_type": "code",
   "execution_count": 86,
   "metadata": {},
   "outputs": [
    {
     "name": "stdout",
     "output_type": "stream",
     "text": [
      "Train on 3891 samples, validate on 973 samples\n",
      "Epoch 1/20\n",
      "3891/3891 [==============================] - 26s 7ms/step - loss: 0.7103 - acc: 0.5312 - val_loss: 0.6982 - val_acc: 0.5026\n",
      "\n",
      "Epoch 00001: val_acc improved from -inf to 0.50257, saving model to ../../data/Training Results/Vanilla Simple RNN/Weights\\OneClass-gel_InputVectorLen-300_TimeStamps-294.hdf5\n",
      "Epoch 2/20\n",
      "3891/3891 [==============================] - 13s 3ms/step - loss: 0.6655 - acc: 0.5965 - val_loss: 0.6504 - val_acc: 0.6249\n",
      "\n",
      "Epoch 00002: val_acc improved from 0.50257 to 0.62487, saving model to ../../data/Training Results/Vanilla Simple RNN/Weights\\OneClass-gel_InputVectorLen-300_TimeStamps-294.hdf5\n",
      "Epoch 3/20\n",
      "3891/3891 [==============================] - 14s 4ms/step - loss: 0.6063 - acc: 0.6608 - val_loss: 0.6358 - val_acc: 0.6341\n",
      "\n",
      "Epoch 00003: val_acc improved from 0.62487 to 0.63412, saving model to ../../data/Training Results/Vanilla Simple RNN/Weights\\OneClass-gel_InputVectorLen-300_TimeStamps-294.hdf5\n",
      "Epoch 4/20\n",
      "3891/3891 [==============================] - 17s 4ms/step - loss: 0.5934 - acc: 0.6839 - val_loss: 0.6384 - val_acc: 0.6413\n",
      "\n",
      "Epoch 00004: val_acc improved from 0.63412 to 0.64132, saving model to ../../data/Training Results/Vanilla Simple RNN/Weights\\OneClass-gel_InputVectorLen-300_TimeStamps-294.hdf5\n",
      "Epoch 5/20\n",
      "3891/3891 [==============================] - 14s 4ms/step - loss: 0.5785 - acc: 0.7057 - val_loss: 0.6171 - val_acc: 0.6557\n",
      "\n",
      "Epoch 00005: val_acc improved from 0.64132 to 0.65570, saving model to ../../data/Training Results/Vanilla Simple RNN/Weights\\OneClass-gel_InputVectorLen-300_TimeStamps-294.hdf5\n",
      "Epoch 6/20\n",
      "3891/3891 [==============================] - 14s 4ms/step - loss: 0.5471 - acc: 0.7265 - val_loss: 0.5961 - val_acc: 0.6639\n",
      "\n",
      "Epoch 00006: val_acc improved from 0.65570 to 0.66393, saving model to ../../data/Training Results/Vanilla Simple RNN/Weights\\OneClass-gel_InputVectorLen-300_TimeStamps-294.hdf5\n",
      "Epoch 7/20\n",
      "3891/3891 [==============================] - 14s 4ms/step - loss: 0.5093 - acc: 0.7522 - val_loss: 0.5881 - val_acc: 0.6752\n",
      "\n",
      "Epoch 00007: val_acc improved from 0.66393 to 0.67523, saving model to ../../data/Training Results/Vanilla Simple RNN/Weights\\OneClass-gel_InputVectorLen-300_TimeStamps-294.hdf5\n",
      "Epoch 8/20\n",
      "3891/3891 [==============================] - 13s 3ms/step - loss: 0.4982 - acc: 0.7574 - val_loss: 0.5770 - val_acc: 0.6835\n",
      "\n",
      "Epoch 00008: val_acc improved from 0.67523 to 0.68345, saving model to ../../data/Training Results/Vanilla Simple RNN/Weights\\OneClass-gel_InputVectorLen-300_TimeStamps-294.hdf5\n",
      "Epoch 9/20\n",
      "3891/3891 [==============================] - 14s 4ms/step - loss: 0.4813 - acc: 0.7795 - val_loss: 0.5638 - val_acc: 0.6999\n",
      "\n",
      "Epoch 00009: val_acc improved from 0.68345 to 0.69990, saving model to ../../data/Training Results/Vanilla Simple RNN/Weights\\OneClass-gel_InputVectorLen-300_TimeStamps-294.hdf5\n",
      "Epoch 10/20\n",
      "3891/3891 [==============================] - 15s 4ms/step - loss: 0.4689 - acc: 0.7731 - val_loss: 0.5578 - val_acc: 0.6999\n",
      "\n",
      "Epoch 00010: val_acc improved from 0.69990 to 0.69990, saving model to ../../data/Training Results/Vanilla Simple RNN/Weights\\OneClass-gel_InputVectorLen-300_TimeStamps-294.hdf5\n",
      "Epoch 11/20\n",
      "3891/3891 [==============================] - 16s 4ms/step - loss: 0.4561 - acc: 0.7877 - val_loss: 0.5537 - val_acc: 0.6999\n",
      "\n",
      "Epoch 00011: val_acc did not improve from 0.69990\n",
      "Epoch 12/20\n",
      "3891/3891 [==============================] - 17s 4ms/step - loss: 0.4475 - acc: 0.7944 - val_loss: 0.5555 - val_acc: 0.7194\n",
      "\n",
      "Epoch 00012: val_acc improved from 0.69990 to 0.71942, saving model to ../../data/Training Results/Vanilla Simple RNN/Weights\\OneClass-gel_InputVectorLen-300_TimeStamps-294.hdf5\n",
      "Epoch 13/20\n",
      "3891/3891 [==============================] - 17s 4ms/step - loss: 0.4303 - acc: 0.8072 - val_loss: 0.5554 - val_acc: 0.7091\n",
      "\n",
      "Epoch 00013: val_acc did not improve from 0.71942\n",
      "Epoch 14/20\n",
      "3891/3891 [==============================] - 24s 6ms/step - loss: 0.4290 - acc: 0.8011 - val_loss: 0.5929 - val_acc: 0.7143\n",
      "\n",
      "Epoch 00014: val_acc did not improve from 0.71942\n",
      "Epoch 15/20\n",
      "3891/3891 [==============================] - 17s 4ms/step - loss: 0.4900 - acc: 0.7785 - val_loss: 0.5602 - val_acc: 0.6968\n",
      "\n",
      "Epoch 00015: val_acc did not improve from 0.71942\n",
      "Epoch 16/20\n",
      "3891/3891 [==============================] - 17s 4ms/step - loss: 0.4462 - acc: 0.7954 - val_loss: 0.5543 - val_acc: 0.7061\n",
      "\n",
      "Epoch 00016: val_acc did not improve from 0.71942\n",
      "Epoch 17/20\n",
      "3891/3891 [==============================] - 19s 5ms/step - loss: 0.4226 - acc: 0.8162 - val_loss: 0.5551 - val_acc: 0.7133\n",
      "\n",
      "Epoch 00017: val_acc did not improve from 0.71942\n",
      "Epoch 18/20\n",
      "3891/3891 [==============================] - 18s 5ms/step - loss: 0.4067 - acc: 0.8188 - val_loss: 0.5587 - val_acc: 0.7122\n",
      "\n",
      "Epoch 00018: val_acc did not improve from 0.71942\n",
      "Epoch 19/20\n",
      "3891/3891 [==============================] - 18s 5ms/step - loss: 0.4083 - acc: 0.8229 - val_loss: 0.5527 - val_acc: 0.7359\n",
      "\n",
      "Epoch 00019: val_acc improved from 0.71942 to 0.73587, saving model to ../../data/Training Results/Vanilla Simple RNN/Weights\\OneClass-gel_InputVectorLen-300_TimeStamps-294.hdf5\n",
      "Epoch 20/20\n",
      "3891/3891 [==============================] - 17s 4ms/step - loss: 0.3995 - acc: 0.8327 - val_loss: 0.5591 - val_acc: 0.7318\n",
      "\n",
      "Epoch 00020: val_acc did not improve from 0.73587\n"
     ]
    }
   ],
   "source": [
    "history = model.fit(X_train, y_train_numerical, epochs=50, batch_size=64, validation_split=0.2, callbacks=callbacks_list)"
   ]
  },
  {
   "cell_type": "code",
   "execution_count": 99,
   "metadata": {},
   "outputs": [
    {
     "name": "stdout",
     "output_type": "stream",
     "text": [
      "1216/1216 [==============================] - 6s 5ms/step\n",
      "Accuracy: 58.72%\n"
     ]
    }
   ],
   "source": [
    "# Final evaluation of the model\n",
    "scores = model.evaluate(X_test, y_test_numerical, verbose=1)\n",
    "print(\"Accuracy: %.2f%%\" % (scores[1]*100))"
   ]
  }
 ],
 "metadata": {
  "kernelspec": {
   "display_name": "Python 3",
   "language": "python",
   "name": "python3"
  },
  "language_info": {
   "codemirror_mode": {
    "name": "ipython",
    "version": 3
   },
   "file_extension": ".py",
   "mimetype": "text/x-python",
   "name": "python",
   "nbconvert_exporter": "python",
   "pygments_lexer": "ipython3",
   "version": "3.6.4"
  }
 },
 "nbformat": 4,
 "nbformat_minor": 2
}
