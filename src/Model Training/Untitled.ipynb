{
 "cells": [
  {
   "cell_type": "code",
   "execution_count": 13,
   "metadata": {},
   "outputs": [],
   "source": [
    "import numpy as np"
   ]
  },
  {
   "cell_type": "code",
   "execution_count": 24,
   "metadata": {},
   "outputs": [
    {
     "name": "stdout",
     "output_type": "stream",
     "text": [
      "[(1, 1), (0, 1), (0, 0), (0, 2), (0, 3), (1, 3)]\n"
     ]
    },
    {
     "data": {
      "text/plain": [
       "array([[0, 0, 0, 0],\n",
       "       [0, 0, 0, 0],\n",
       "       [0, 1, 0, 0],\n",
       "       [0, 1, 0, 0]])"
      ]
     },
     "execution_count": 24,
     "metadata": {},
     "output_type": "execute_result"
    }
   ],
   "source": [
    "def out_of_bounds(arr, i, j):\n",
    "    return not ((-1 < i < len(arr)) and (-1 < j < len(arr[0])))\n",
    "    \n",
    "def check_if_floor(arr, i, j):\n",
    "    return (i >= len(arr)) and (-1 < j < len(arr[0]))\n",
    "\n",
    "def check_if_connected_to_floor(arr, i, j, visited = set()):\n",
    "    if out_of_bounds(arr, i, j):\n",
    "        return check_if_floor(arr, i, j)\n",
    "    else:\n",
    "        if arr[i][j] == 0:\n",
    "            return False\n",
    "        else:\n",
    "            if (i, j) in visited:\n",
    "                return False\n",
    "            else:\n",
    "                visited.add((i, j))\n",
    "                return check_if_connected_to_floor(arr, i + 1, j, visited) or check_if_connected_to_floor(arr, i, j - 1, visited) or check_if_connected_to_floor(arr, i, j + 1, visited) or check_if_connected_to_floor(arr, i - 1, j, visited)\n",
    "            \n",
    "def topple_bricks(wall, i, j, bricks_toppled):\n",
    "    if not out_of_bounds(wall, i, j) and wall[i][j]:\n",
    "        if not check_if_connected_to_floor(wall, i, j):\n",
    "            bricks_toppled.append((i, j))\n",
    "            wall[i][j] = 0\n",
    "            topple_bricks(wall, i - 1, j, bricks_toppled)\n",
    "            topple_bricks(wall, i, j - 1, bricks_toppled)\n",
    "            topple_bricks(wall, i, j + 1, bricks_toppled)\n",
    "            topple_bricks(wall, i + 1, j, bricks_toppled)\n",
    "        else:\n",
    "            return\n",
    "\n",
    "def get_bricks_that_will_topple(wall, index):\n",
    "    i, j = index\n",
    "    bricks_toppled = [(i, j)]\n",
    "    wall[i][j] = 0\n",
    "    topple_bricks(wall, i - 1, j, bricks_toppled)\n",
    "    topple_bricks(wall, i, j - 1, bricks_toppled)\n",
    "    topple_bricks(wall, i, j + 1, bricks_toppled)\n",
    "    topple_bricks(wall, i + 1, j, bricks_toppled)\n",
    "    return bricks_toppled\n",
    "\n",
    "my_wall = [[1, 1, 1, 1], [0, 1, 0, 1], [0, 1, 0, 0], [0, 1, 0, 0]]\n",
    "wall = np.array(my_wall)\n",
    "print(get_bricks_that_will_topple(wall, (1, 1)))\n",
    "wall"
   ]
  }
 ],
 "metadata": {
  "kernelspec": {
   "display_name": "Python 3",
   "language": "python",
   "name": "python3"
  },
  "language_info": {
   "codemirror_mode": {
    "name": "ipython",
    "version": 3
   },
   "file_extension": ".py",
   "mimetype": "text/x-python",
   "name": "python",
   "nbconvert_exporter": "python",
   "pygments_lexer": "ipython3",
   "version": "3.6.4"
  }
 },
 "nbformat": 4,
 "nbformat_minor": 2
}
