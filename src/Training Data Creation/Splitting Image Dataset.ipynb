{
 "cells": [
  {
   "cell_type": "markdown",
   "metadata": {},
   "source": [
    "# Splitting Image Dataset\n",
    "\n",
    "This notebook splits the image dataset from the all images data to training, validation and test data"
   ]
  },
  {
   "cell_type": "code",
   "execution_count": 6,
   "metadata": {},
   "outputs": [],
   "source": [
    "import os\n",
    "import glob\n",
    "import PIL\n",
    "from shutil import copy2, move\n",
    "import random"
   ]
  },
  {
   "cell_type": "markdown",
   "metadata": {},
   "source": [
    "Adding this so that can use the python scripts for loading the training data"
   ]
  },
  {
   "cell_type": "code",
   "execution_count": 2,
   "metadata": {},
   "outputs": [],
   "source": [
    "import sys\n",
    "nb_dir = os.path.split(os.getcwd())[0]\n",
    "if nb_dir not in sys.path:\n",
    "    sys.path.append(nb_dir)"
   ]
  },
  {
   "cell_type": "markdown",
   "metadata": {},
   "source": [
    "Importing the python script training data loader function. This function loads the data from the *.wav* files directly"
   ]
  },
  {
   "cell_type": "code",
   "execution_count": 3,
   "metadata": {},
   "outputs": [
    {
     "name": "stderr",
     "output_type": "stream",
     "text": [
      "C:\\Users\\Saksham Goel\\Anaconda3\\lib\\site-packages\\h5py\\__init__.py:36: FutureWarning: Conversion of the second argument of issubdtype from `float` to `np.floating` is deprecated. In future, it will be treated as `np.float64 == np.dtype(float).type`.\n",
      "  from ._conv import register_converters as _register_converters\n",
      "Using TensorFlow backend.\n"
     ]
    }
   ],
   "source": [
    "from py_scripts.directory_funcs import *\n",
    "from py_scripts.wav_file_funcs import *\n",
    "from py_scripts.misc_audio_signal_funcs import *\n",
    "from py_scripts.raw_training_data_creation import load_irmas_data"
   ]
  },
  {
   "cell_type": "markdown",
   "metadata": {},
   "source": [
    "# Getting the Stacking Images"
   ]
  },
  {
   "cell_type": "code",
   "execution_count": 5,
   "metadata": {},
   "outputs": [],
   "source": [
    "all_dir = r'../../data/images_jpg/all_images/'\n",
    "train_dir = r'../../data/images_jpg/train'\n",
    "validation_dir = r'../../data/images_jpg/validation'\n",
    "test_dir = r'../../data/images_jpg/test'\n",
    "classes = ['gel', 'pia', 'sax', 'vio', 'voi']"
   ]
  },
  {
   "cell_type": "code",
   "execution_count": 13,
   "metadata": {},
   "outputs": [
    {
     "name": "stdout",
     "output_type": "stream",
     "text": [
      "gel    \n",
      "0\n",
      "0\n",
      "0\n",
      "pia    \n",
      "0\n",
      "0\n",
      "0\n",
      "sax    \n",
      "0\n",
      "0\n",
      "0\n",
      "vio    \n",
      "0\n",
      "0\n",
      "0\n",
      "voi    \n",
      "0\n",
      "0\n",
      "0\n"
     ]
    }
   ],
   "source": [
    "percentages = {'train':0.7, 'validation':0.15, 'test':0.15}\n",
    "for class_name in classes:\n",
    "    print(class_name, '', '', '', '')\n",
    "    all_class_dir_path = construct_path(all_dir, class_name)\n",
    "    train_class_dir_path = construct_path(train_dir, class_name)\n",
    "    check_output_directory(train_class_dir_path)\n",
    "    validation_class_dir_path = construct_path(validation_dir, class_name)\n",
    "    check_output_directory(validation_class_dir_path)\n",
    "    test_class_dir_path = construct_path(test_dir, class_name)\n",
    "    check_output_directory(test_class_dir_path)\n",
    "    image_names = get_file_names(all_class_dir_path, '*.jpg')\n",
    "    random.shuffle(image_names)\n",
    "    train_images = image_names[:int(percentages['train']*len(image_names))]\n",
    "    validation_images = image_names[int(percentages['train']*len(image_names)): int(percentages['train']*len(image_names)) + int(percentages['validation']*len(image_names))]\n",
    "    test_images = image_names[len(image_names) - int(percentages['test']*len(image_names)):]\n",
    "    print(len(set(train_images).intersection(set(validation_images))))\n",
    "    print(len(set(train_images).intersection(set(test_images))))\n",
    "    print(len(set(validation_images).intersection(set(test_images))))\n",
    "    for image_name in train_images:\n",
    "        copy2(construct_path(all_class_dir_path, image_name), train_class_dir_path)\n",
    "    for image_name in validation_images:\n",
    "        copy2(construct_path(all_class_dir_path, image_name), validation_class_dir_path)\n",
    "    for image_name in test_images:\n",
    "        copy2(construct_path(all_class_dir_path, image_name), test_class_dir_path)"
   ]
  },
  {
   "cell_type": "markdown",
   "metadata": {},
   "source": [
    "# Getting the MRP Images"
   ]
  },
  {
   "cell_type": "code",
   "execution_count": 14,
   "metadata": {},
   "outputs": [],
   "source": [
    "all_dir = r'../../data/mrp_jpg/all_images/'\n",
    "train_dir = r'../../data/mrp_jpg/train'\n",
    "validation_dir = r'../../data/mrp_jpg/validation'\n",
    "test_dir = r'../../data/mrp_jpg/test'\n",
    "classes = ['gel', 'pia', 'sax', 'vio', 'voi']"
   ]
  },
  {
   "cell_type": "code",
   "execution_count": 15,
   "metadata": {},
   "outputs": [
    {
     "name": "stdout",
     "output_type": "stream",
     "text": [
      "gel    \n",
      "0\n",
      "0\n",
      "0\n",
      "pia    \n",
      "0\n",
      "0\n",
      "0\n",
      "sax    \n",
      "0\n",
      "0\n",
      "0\n",
      "vio    \n",
      "0\n",
      "0\n",
      "0\n",
      "voi    \n",
      "0\n",
      "0\n",
      "0\n"
     ]
    }
   ],
   "source": [
    "percentages = {'train':0.7, 'validation':0.15, 'test':0.15}\n",
    "for class_name in classes:\n",
    "    print(class_name, '', '', '', '')\n",
    "    all_class_dir_path = construct_path(all_dir, class_name)\n",
    "    train_class_dir_path = construct_path(train_dir, class_name)\n",
    "    check_output_directory(train_class_dir_path)\n",
    "    validation_class_dir_path = construct_path(validation_dir, class_name)\n",
    "    check_output_directory(validation_class_dir_path)\n",
    "    test_class_dir_path = construct_path(test_dir, class_name)\n",
    "    check_output_directory(test_class_dir_path)\n",
    "    image_names = get_file_names(all_class_dir_path, '*.jpg')\n",
    "    random.shuffle(image_names)\n",
    "    train_images = image_names[:int(percentages['train']*len(image_names))]\n",
    "    validation_images = image_names[int(percentages['train']*len(image_names)): int(percentages['train']*len(image_names)) + int(percentages['validation']*len(image_names))]\n",
    "    test_images = image_names[len(image_names) - int(percentages['test']*len(image_names)):]\n",
    "    print(len(set(train_images).intersection(set(validation_images))))\n",
    "    print(len(set(train_images).intersection(set(test_images))))\n",
    "    print(len(set(validation_images).intersection(set(test_images))))\n",
    "    for image_name in train_images:\n",
    "        copy2(construct_path(all_class_dir_path, image_name), train_class_dir_path)\n",
    "    for image_name in validation_images:\n",
    "        copy2(construct_path(all_class_dir_path, image_name), validation_class_dir_path)\n",
    "    for image_name in test_images:\n",
    "        copy2(construct_path(all_class_dir_path, image_name), test_class_dir_path)"
   ]
  },
  {
   "cell_type": "code",
   "execution_count": null,
   "metadata": {},
   "outputs": [],
   "source": []
  }
 ],
 "metadata": {
  "kernelspec": {
   "display_name": "Python 3",
   "language": "python",
   "name": "python3"
  },
  "language_info": {
   "codemirror_mode": {
    "name": "ipython",
    "version": 3
   },
   "file_extension": ".py",
   "mimetype": "text/x-python",
   "name": "python",
   "nbconvert_exporter": "python",
   "pygments_lexer": "ipython3",
   "version": "3.6.4"
  }
 },
 "nbformat": 4,
 "nbformat_minor": 2
}
