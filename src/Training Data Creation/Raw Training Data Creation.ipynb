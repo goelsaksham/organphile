{
 "cells": [
  {
   "cell_type": "markdown",
   "metadata": {},
   "source": [
    "# Raw Training Data Creation\n",
    "\n",
    "This notebook is responsible to load data from the given training data directory and then convert the data into a format based on numbers in vector form to represent tha features for each given training example. The goal of this notebook is to make sure that there is code to convert the data from the given .wav files into a big Train/Test feature matriz and class labels target vector."
   ]
  },
  {
   "cell_type": "markdown",
   "metadata": {},
   "source": [
    "### Importing Libraries\n",
    "\n",
    "Importing the required libraries for the notebook"
   ]
  },
  {
   "cell_type": "code",
   "execution_count": 83,
   "metadata": {},
   "outputs": [],
   "source": [
    "import numpy as np\n",
    "import pandas as pd\n",
    "import os\n",
    "import glob\n",
    "from scipy.io import wavfile\n",
    "from typing import List"
   ]
  },
  {
   "cell_type": "markdown",
   "metadata": {},
   "source": [
    "### Helper Function Definitions\n",
    "\n",
    "This section will define several helper functions to help load the data and convert them into a feature matrix along with a class label target vector"
   ]
  },
  {
   "cell_type": "code",
   "execution_count": 64,
   "metadata": {},
   "outputs": [],
   "source": [
    "def exist_directory(directory_path: str):\n",
    "    return os.path.isdir(directory_path)\n",
    "\n",
    "def exist_file(file_path: str):\n",
    "    return os.path.isfile(file_path)\n",
    "\n",
    "def get_directory_contents(directory_path: str, pattern: str):\n",
    "    if exist_directory(directory_path):\n",
    "        # Get the current working directory\n",
    "        cwd = os.getcwd()\n",
    "        # Change the directory into the target directory path\n",
    "        os.chdir(directory_path)\n",
    "        # Get the list of directory contents\n",
    "        directory_contents = glob.glob(pattern)\n",
    "        # Change back to the original process working directory\n",
    "        os.chdir(cwd)\n",
    "        # Return back the directory contents\n",
    "        return directory_contents\n",
    "    else:\n",
    "        return []\n",
    "    \n",
    "def get_subdirectory_names(directory_path: str):\n",
    "    return list(map(lambda subdirectory_name: subdirectory_name.replace('\\\\', '').replace('//', ''),\n",
    "                    get_directory_contents(directory_path, '*//')))\n",
    "\n",
    "def get_file_names(directory_path: str, file_extension: str):\n",
    "    return get_directory_contents(directory_path, f'*{file_extension}')\n",
    "\n",
    "def construct_path(directory_path: str, directory_content_name: str):\n",
    "    return os.path.join(directory_path, directory_content_name)"
   ]
  },
  {
   "cell_type": "markdown",
   "metadata": {},
   "source": [
    "### Wav File Reader Functions\n",
    "\n",
    "This section of the notebook is responsible to define various functions that will provide the necessary data about the sound signals from the given input wavfile"
   ]
  },
  {
   "cell_type": "code",
   "execution_count": 95,
   "metadata": {},
   "outputs": [],
   "source": [
    "def read_wav_file(file_path: str):\n",
    "    if exist_file(file_path):\n",
    "        return wavfile.read(file_path)\n",
    "    else:\n",
    "        return (44100, np.array([]))\n",
    "    \n",
    "def get_sound_signals(wav_file_data):\n",
    "    return wav_file_data[-1]\n",
    "\n",
    "def normalize_sound_signals(sound_signals: np.array):\n",
    "    return np.float16(sound_signals / (2. ** 15))\n",
    "\n",
    "def get_left_channel_data(sound_signals: np.array):\n",
    "    return sound_signals[:, 0]\n",
    "\n",
    "def get_right_channel_data(sound_signals: np.array):\n",
    "    return sound_signals[:, -1]\n",
    "\n",
    "def get_sound_feature_vectors_from_file(file_path: str):\n",
    "    sound_signals = normalize_sound_signals(get_sound_signals(read_wav_file(file_path)))\n",
    "    left_channel_feature_vector, right_channel_feature_vector = \\\n",
    "        get_left_channel_data(sound_signals), get_right_channel_data(sound_signals)\n",
    "    return left_channel_feature_vector, right_channel_feature_vector"
   ]
  },
  {
   "cell_type": "markdown",
   "metadata": {},
   "source": [
    "### Class Data Loader\n",
    "\n",
    "This section is responsible to load features from each wav file belonging to a particular class and returning a feature matrix along with the traget class label."
   ]
  },
  {
   "cell_type": "code",
   "execution_count": 66,
   "metadata": {},
   "outputs": [],
   "source": [
    "def stack_data(feature_matrix: np.array, left_channel_features: np.array, right_channel_features: np.array):\n",
    "    if len(feature_matrix) == 0:\n",
    "        return np.stack((left_channel_features, right_channel_features))\n",
    "    else:\n",
    "        return np.vstack((feature_matrix, left_channel_features, right_channel_features))\n",
    "\n",
    "def get_class_data(parent_directory_path: str, class_label: str, number_of_examples: int = 0):\n",
    "    # Initializing the class feature matrix and target vector\n",
    "    class_feature_matrix = []\n",
    "    class_target_vector = []\n",
    "    # Construct the path\n",
    "    class_directory_path = construct_path(parent_directory_path, class_label)\n",
    "    # Make sure the given path is correct\n",
    "    if not exist_directory(class_directory_path):\n",
    "        return np.array(class_feature_matrix), np.array(class_target_vector)\n",
    "    \n",
    "    # Get the names of the wav file belonging to the current class\n",
    "    wav_file_names = set(get_file_names(class_directory_path, '.wav'))\n",
    "    # Get the subset of the classes, if want only limited number of training examples\n",
    "    if number_of_examples:\n",
    "        wav_file_names = wav_file_names[:np.abs(number_of_examples)]\n",
    "    print(f'Processing: {len(wav_file_names)} files')\n",
    "    # Iterate through each wav file\n",
    "    for file_name in wav_file_names:\n",
    "        file_path = construct_path(class_directory_path, file_name)\n",
    "        left_channel_features, right_channel_features = get_sound_feature_vectors_from_file(file_path)\n",
    "        #class_feature_matrix = stack_data(class_feature_matrix, left_channel_features, right_channel_features)\n",
    "        class_feature_matrix += [left_channel_features, right_channel_features]\n",
    "        class_target_vector += [class_label]*2\n",
    "        \n",
    "    return np.array(class_feature_matrix), np.array(class_target_vector)"
   ]
  },
  {
   "cell_type": "markdown",
   "metadata": {},
   "source": [
    "### Training Data Loader\n",
    "\n",
    "This section is responsible to return the full training data from the training directory"
   ]
  },
  {
   "cell_type": "code",
   "execution_count": 84,
   "metadata": {},
   "outputs": [],
   "source": [
    "def load_irmas_data(parent_directory_path: str, class_labels_to_process: List[str], \n",
    "                    number_of_training_examples_per_class: int = 0):\n",
    "    if not exist_directory(parent_directory_path):\n",
    "        print(f'Invalid directory: {parent_directory_path}')\n",
    "    \n",
    "    class_labels = class_labels_to_process if class_labels_to_process else get_subdirectory_names(parent_directory_path)\n",
    "    \n",
    "    feature_matrix = np.array([])\n",
    "    target_vector = np.array([])\n",
    "    \n",
    "    for class_label in class_labels:\n",
    "        print(f'Getting Data from {class_label}')\n",
    "        class_feature_matrix, class_target_vector = get_class_data(parent_directory_path, class_label, \n",
    "                                                                   number_of_training_examples_per_class)\n",
    "        print(f'Loaded all the data from the class')\n",
    "        if feature_matrix.size:\n",
    "            feature_matrix = np.vstack((feature_matrix, class_feature_matrix))\n",
    "            target_vector = np.hstack((target_vector, class_target_vector))\n",
    "        else:\n",
    "            feature_matrix = class_feature_matrix\n",
    "            target_vector = class_target_vector\n",
    "    \n",
    "    return feature_matrix, target_vector"
   ]
  },
  {
   "cell_type": "code",
   "execution_count": 96,
   "metadata": {},
   "outputs": [
    {
     "name": "stdout",
     "output_type": "stream",
     "text": [
      "Getting Data from cel\n",
      "Processing: 388 files\n",
      "Loaded all the data from the class\n",
      "Getting Data from cla\n",
      "Processing: 505 files\n",
      "Loaded all the data from the class\n",
      "Wall time: 17 s\n"
     ]
    }
   ],
   "source": [
    "%%time\n",
    "X_train, y_train = load_irmas_data(f'../../data/whole_dataset/training/', ['cel', 'cla'])"
   ]
  }
 ],
 "metadata": {
  "kernelspec": {
   "display_name": "Python 3",
   "language": "python",
   "name": "python3"
  },
  "language_info": {
   "codemirror_mode": {
    "name": "ipython",
    "version": 3
   },
   "file_extension": ".py",
   "mimetype": "text/x-python",
   "name": "python",
   "nbconvert_exporter": "python",
   "pygments_lexer": "ipython3",
   "version": "3.6.4"
  }
 },
 "nbformat": 4,
 "nbformat_minor": 2
}
